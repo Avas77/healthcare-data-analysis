{
 "cells": [
  {
   "cell_type": "code",
   "id": "initial_id",
   "metadata": {
    "collapsed": true,
    "ExecuteTime": {
     "end_time": "2025-02-02T15:27:48.533098Z",
     "start_time": "2025-02-02T15:27:39.730381Z"
    }
   },
   "source": [
    "import pandas as pd\n",
    "import matplotlib.pyplot as plt\n",
    "\n",
    "%matplotlib inline"
   ],
   "outputs": [],
   "execution_count": 3
  },
  {
   "metadata": {
    "ExecuteTime": {
     "end_time": "2025-02-02T15:27:49.466803Z",
     "start_time": "2025-02-02T15:27:48.553724Z"
    }
   },
   "cell_type": "code",
   "source": [
    "wait_time_df = pd.read_csv('dataset\\patients_data_clean.csv')\n",
    "wait_time_df"
   ],
   "id": "ec2681bfcec2b77d",
   "outputs": [
    {
     "name": "stderr",
     "output_type": "stream",
     "text": [
      "<>:1: SyntaxWarning: invalid escape sequence '\\p'\n",
      "<>:1: SyntaxWarning: invalid escape sequence '\\p'\n",
      "C:\\Users\\BAJRACHARYAA\\AppData\\Local\\Temp\\ipykernel_23296\\2486075992.py:1: SyntaxWarning: invalid escape sequence '\\p'\n",
      "  wait_time_df = pd.read_csv('dataset\\patients_data_clean.csv')\n"
     ]
    },
    {
     "data": {
      "text/plain": [
       "        Visit_Date  Patient_ID  Age  Gender  \\\n",
       "0       2020-05-06      688923   68  Female   \n",
       "1       2018-08-04      886361   62  Female   \n",
       "2       2021-04-10      464823   70  Female   \n",
       "3       2021-10-01      655214    8  Female   \n",
       "4       2018-04-30      454666   24    Male   \n",
       "...            ...         ...  ...     ...   \n",
       "999995  2018-09-30      385435    9    Male   \n",
       "999996  2020-05-08      117261   29  Female   \n",
       "999997  2019-12-31      594613   39  Female   \n",
       "999998  2019-11-04      152179   39  Female   \n",
       "999999  2019-05-11      370584   76  Female   \n",
       "\n",
       "                                Diagnosis  Has_Insurance  Postcode  \\\n",
       "0                                Diabetes           True     20006   \n",
       "1                 Urinary Tract Infection          False     20005   \n",
       "2       Upper Respiratory Tract Infection           True     10003   \n",
       "3       Upper Respiratory Tract Infection          False     10006   \n",
       "4                                 Malaria           True     10006   \n",
       "...                                   ...            ...       ...   \n",
       "999995                     Abdominal pain           True     10004   \n",
       "999996            Urinary Tract Infection           True     20009   \n",
       "999997  Upper Respiratory Tract Infection          False     10001   \n",
       "999998                            Malaria          False     20006   \n",
       "999999                            Malaria          False     20012   \n",
       "\n",
       "        Total_Cost  Registration_minutes  Nursing_minutes  Laboratory_minutes  \\\n",
       "0           2274.0                    33              105                 101   \n",
       "1           3430.0                    46               75                  84   \n",
       "2           1836.0                   107               81                   5   \n",
       "3           3250.0                    66               31                 101   \n",
       "4           2262.0                    68               55                  60   \n",
       "...            ...                   ...              ...                 ...   \n",
       "999995      1458.0                    80               52                  11   \n",
       "999996      1836.0                    59               57                  64   \n",
       "999997      1930.0                    10               14                  69   \n",
       "999998      3950.0                   119               52                  60   \n",
       "999999      3500.0                    34               90                  29   \n",
       "\n",
       "        Consultation_minutes  Pharmacy_minutes  \n",
       "0                         28               112  \n",
       "1                        102                36  \n",
       "2                         77                36  \n",
       "3                         35                92  \n",
       "4                         90               104  \n",
       "...                      ...               ...  \n",
       "999995                    42                58  \n",
       "999996                    66                60  \n",
       "999997                    14                86  \n",
       "999998                    94                70  \n",
       "999999                    97               100  \n",
       "\n",
       "[1000000 rows x 13 columns]"
      ],
      "text/html": [
       "<div>\n",
       "<style scoped>\n",
       "    .dataframe tbody tr th:only-of-type {\n",
       "        vertical-align: middle;\n",
       "    }\n",
       "\n",
       "    .dataframe tbody tr th {\n",
       "        vertical-align: top;\n",
       "    }\n",
       "\n",
       "    .dataframe thead th {\n",
       "        text-align: right;\n",
       "    }\n",
       "</style>\n",
       "<table border=\"1\" class=\"dataframe\">\n",
       "  <thead>\n",
       "    <tr style=\"text-align: right;\">\n",
       "      <th></th>\n",
       "      <th>Visit_Date</th>\n",
       "      <th>Patient_ID</th>\n",
       "      <th>Age</th>\n",
       "      <th>Gender</th>\n",
       "      <th>Diagnosis</th>\n",
       "      <th>Has_Insurance</th>\n",
       "      <th>Postcode</th>\n",
       "      <th>Total_Cost</th>\n",
       "      <th>Registration_minutes</th>\n",
       "      <th>Nursing_minutes</th>\n",
       "      <th>Laboratory_minutes</th>\n",
       "      <th>Consultation_minutes</th>\n",
       "      <th>Pharmacy_minutes</th>\n",
       "    </tr>\n",
       "  </thead>\n",
       "  <tbody>\n",
       "    <tr>\n",
       "      <th>0</th>\n",
       "      <td>2020-05-06</td>\n",
       "      <td>688923</td>\n",
       "      <td>68</td>\n",
       "      <td>Female</td>\n",
       "      <td>Diabetes</td>\n",
       "      <td>True</td>\n",
       "      <td>20006</td>\n",
       "      <td>2274.0</td>\n",
       "      <td>33</td>\n",
       "      <td>105</td>\n",
       "      <td>101</td>\n",
       "      <td>28</td>\n",
       "      <td>112</td>\n",
       "    </tr>\n",
       "    <tr>\n",
       "      <th>1</th>\n",
       "      <td>2018-08-04</td>\n",
       "      <td>886361</td>\n",
       "      <td>62</td>\n",
       "      <td>Female</td>\n",
       "      <td>Urinary Tract Infection</td>\n",
       "      <td>False</td>\n",
       "      <td>20005</td>\n",
       "      <td>3430.0</td>\n",
       "      <td>46</td>\n",
       "      <td>75</td>\n",
       "      <td>84</td>\n",
       "      <td>102</td>\n",
       "      <td>36</td>\n",
       "    </tr>\n",
       "    <tr>\n",
       "      <th>2</th>\n",
       "      <td>2021-04-10</td>\n",
       "      <td>464823</td>\n",
       "      <td>70</td>\n",
       "      <td>Female</td>\n",
       "      <td>Upper Respiratory Tract Infection</td>\n",
       "      <td>True</td>\n",
       "      <td>10003</td>\n",
       "      <td>1836.0</td>\n",
       "      <td>107</td>\n",
       "      <td>81</td>\n",
       "      <td>5</td>\n",
       "      <td>77</td>\n",
       "      <td>36</td>\n",
       "    </tr>\n",
       "    <tr>\n",
       "      <th>3</th>\n",
       "      <td>2021-10-01</td>\n",
       "      <td>655214</td>\n",
       "      <td>8</td>\n",
       "      <td>Female</td>\n",
       "      <td>Upper Respiratory Tract Infection</td>\n",
       "      <td>False</td>\n",
       "      <td>10006</td>\n",
       "      <td>3250.0</td>\n",
       "      <td>66</td>\n",
       "      <td>31</td>\n",
       "      <td>101</td>\n",
       "      <td>35</td>\n",
       "      <td>92</td>\n",
       "    </tr>\n",
       "    <tr>\n",
       "      <th>4</th>\n",
       "      <td>2018-04-30</td>\n",
       "      <td>454666</td>\n",
       "      <td>24</td>\n",
       "      <td>Male</td>\n",
       "      <td>Malaria</td>\n",
       "      <td>True</td>\n",
       "      <td>10006</td>\n",
       "      <td>2262.0</td>\n",
       "      <td>68</td>\n",
       "      <td>55</td>\n",
       "      <td>60</td>\n",
       "      <td>90</td>\n",
       "      <td>104</td>\n",
       "    </tr>\n",
       "    <tr>\n",
       "      <th>...</th>\n",
       "      <td>...</td>\n",
       "      <td>...</td>\n",
       "      <td>...</td>\n",
       "      <td>...</td>\n",
       "      <td>...</td>\n",
       "      <td>...</td>\n",
       "      <td>...</td>\n",
       "      <td>...</td>\n",
       "      <td>...</td>\n",
       "      <td>...</td>\n",
       "      <td>...</td>\n",
       "      <td>...</td>\n",
       "      <td>...</td>\n",
       "    </tr>\n",
       "    <tr>\n",
       "      <th>999995</th>\n",
       "      <td>2018-09-30</td>\n",
       "      <td>385435</td>\n",
       "      <td>9</td>\n",
       "      <td>Male</td>\n",
       "      <td>Abdominal pain</td>\n",
       "      <td>True</td>\n",
       "      <td>10004</td>\n",
       "      <td>1458.0</td>\n",
       "      <td>80</td>\n",
       "      <td>52</td>\n",
       "      <td>11</td>\n",
       "      <td>42</td>\n",
       "      <td>58</td>\n",
       "    </tr>\n",
       "    <tr>\n",
       "      <th>999996</th>\n",
       "      <td>2020-05-08</td>\n",
       "      <td>117261</td>\n",
       "      <td>29</td>\n",
       "      <td>Female</td>\n",
       "      <td>Urinary Tract Infection</td>\n",
       "      <td>True</td>\n",
       "      <td>20009</td>\n",
       "      <td>1836.0</td>\n",
       "      <td>59</td>\n",
       "      <td>57</td>\n",
       "      <td>64</td>\n",
       "      <td>66</td>\n",
       "      <td>60</td>\n",
       "    </tr>\n",
       "    <tr>\n",
       "      <th>999997</th>\n",
       "      <td>2019-12-31</td>\n",
       "      <td>594613</td>\n",
       "      <td>39</td>\n",
       "      <td>Female</td>\n",
       "      <td>Upper Respiratory Tract Infection</td>\n",
       "      <td>False</td>\n",
       "      <td>10001</td>\n",
       "      <td>1930.0</td>\n",
       "      <td>10</td>\n",
       "      <td>14</td>\n",
       "      <td>69</td>\n",
       "      <td>14</td>\n",
       "      <td>86</td>\n",
       "    </tr>\n",
       "    <tr>\n",
       "      <th>999998</th>\n",
       "      <td>2019-11-04</td>\n",
       "      <td>152179</td>\n",
       "      <td>39</td>\n",
       "      <td>Female</td>\n",
       "      <td>Malaria</td>\n",
       "      <td>False</td>\n",
       "      <td>20006</td>\n",
       "      <td>3950.0</td>\n",
       "      <td>119</td>\n",
       "      <td>52</td>\n",
       "      <td>60</td>\n",
       "      <td>94</td>\n",
       "      <td>70</td>\n",
       "    </tr>\n",
       "    <tr>\n",
       "      <th>999999</th>\n",
       "      <td>2019-05-11</td>\n",
       "      <td>370584</td>\n",
       "      <td>76</td>\n",
       "      <td>Female</td>\n",
       "      <td>Malaria</td>\n",
       "      <td>False</td>\n",
       "      <td>20012</td>\n",
       "      <td>3500.0</td>\n",
       "      <td>34</td>\n",
       "      <td>90</td>\n",
       "      <td>29</td>\n",
       "      <td>97</td>\n",
       "      <td>100</td>\n",
       "    </tr>\n",
       "  </tbody>\n",
       "</table>\n",
       "<p>1000000 rows × 13 columns</p>\n",
       "</div>"
      ]
     },
     "execution_count": 4,
     "metadata": {},
     "output_type": "execute_result"
    }
   ],
   "execution_count": 4
  },
  {
   "metadata": {
    "ExecuteTime": {
     "end_time": "2025-02-02T15:27:49.804122Z",
     "start_time": "2025-02-02T15:27:49.764420Z"
    }
   },
   "cell_type": "code",
   "source": [
    "wait_time_df[\"total_time_minutes\"] = wait_time_df[\"Registration_minutes\"] + wait_time_df[\"Nursing_minutes\"] + wait_time_df[\"Laboratory_minutes\"] + wait_time_df[\"Consultation_minutes\"] + wait_time_df[\"Pharmacy_minutes\"]\n",
    "wait_time_df[\"total_time_minutes\"]"
   ],
   "id": "9e53ee17af8302d8",
   "outputs": [
    {
     "data": {
      "text/plain": [
       "0         379\n",
       "1         343\n",
       "2         306\n",
       "3         325\n",
       "4         377\n",
       "         ... \n",
       "999995    243\n",
       "999996    306\n",
       "999997    193\n",
       "999998    395\n",
       "999999    350\n",
       "Name: total_time_minutes, Length: 1000000, dtype: int64"
      ]
     },
     "execution_count": 5,
     "metadata": {},
     "output_type": "execute_result"
    }
   ],
   "execution_count": 5
  },
  {
   "metadata": {
    "ExecuteTime": {
     "end_time": "2025-02-02T15:27:49.969763Z",
     "start_time": "2025-02-02T15:27:49.947499Z"
    }
   },
   "cell_type": "code",
   "source": [
    "wait_time_df[\"total_time_hrs\"] = round(wait_time_df[\"total_time_minutes\"]/60)\n",
    "wait_time_df[\"total_time_hrs\"]"
   ],
   "id": "9ea5d5651a5b2f71",
   "outputs": [
    {
     "data": {
      "text/plain": [
       "0         6.0\n",
       "1         6.0\n",
       "2         5.0\n",
       "3         5.0\n",
       "4         6.0\n",
       "         ... \n",
       "999995    4.0\n",
       "999996    5.0\n",
       "999997    3.0\n",
       "999998    7.0\n",
       "999999    6.0\n",
       "Name: total_time_hrs, Length: 1000000, dtype: float64"
      ]
     },
     "execution_count": 6,
     "metadata": {},
     "output_type": "execute_result"
    }
   ],
   "execution_count": 6
  },
  {
   "metadata": {
    "ExecuteTime": {
     "end_time": "2025-02-02T15:27:50.176911Z",
     "start_time": "2025-02-02T15:27:50.168837Z"
    }
   },
   "cell_type": "code",
   "source": [
    "average_total_time_hrs = wait_time_df[\"total_time_hrs\"].mean()\n",
    "print(average_total_time_hrs)"
   ],
   "id": "437e578cea1e7381",
   "outputs": [
    {
     "name": "stdout",
     "output_type": "stream",
     "text": [
      "5.209587\n"
     ]
    }
   ],
   "execution_count": 7
  },
  {
   "metadata": {
    "ExecuteTime": {
     "end_time": "2025-02-02T15:27:50.311774Z",
     "start_time": "2025-02-02T15:27:50.270885Z"
    }
   },
   "cell_type": "code",
   "source": [
    "max_time_department = wait_time_df[[\"Registration_minutes\", \"Nursing_minutes\", \"Laboratory_minutes\", \"Consultation_minutes\", \"Pharmacy_minutes\"]].sum().idxmax()\n",
    "max_time_department"
   ],
   "id": "a1e9466bbe0a87c6",
   "outputs": [
    {
     "data": {
      "text/plain": [
       "'Registration_minutes'"
      ]
     },
     "execution_count": 8,
     "metadata": {},
     "output_type": "execute_result"
    }
   ],
   "execution_count": 8
  },
  {
   "metadata": {
    "ExecuteTime": {
     "end_time": "2025-02-02T15:27:50.391416Z",
     "start_time": "2025-02-02T15:27:50.385298Z"
    }
   },
   "cell_type": "code",
   "source": "print(wait_time_df[\"Registration_minutes\"].max())",
   "id": "2926c3bd3a34987b",
   "outputs": [
    {
     "name": "stdout",
     "output_type": "stream",
     "text": [
      "120\n"
     ]
    }
   ],
   "execution_count": 9
  },
  {
   "metadata": {
    "ExecuteTime": {
     "end_time": "2025-02-02T15:27:50.440141Z",
     "start_time": "2025-02-02T15:27:50.432428Z"
    }
   },
   "cell_type": "code",
   "source": "print(wait_time_df[\"Registration_minutes\"].min())",
   "id": "7b1e541061fec93c",
   "outputs": [
    {
     "name": "stdout",
     "output_type": "stream",
     "text": [
      "5\n"
     ]
    }
   ],
   "execution_count": 10
  },
  {
   "metadata": {
    "ExecuteTime": {
     "end_time": "2025-02-02T15:27:51.036148Z",
     "start_time": "2025-02-02T15:27:50.464818Z"
    }
   },
   "cell_type": "code",
   "source": "wait_time_df.describe()",
   "id": "329cf8432cd3cb9d",
   "outputs": [
    {
     "data": {
      "text/plain": [
       "           Patient_ID             Age        Postcode      Total_Cost  \\\n",
       "count  1000000.000000  1000000.000000  1000000.000000  1000000.000000   \n",
       "mean    500232.310839       45.000623    13014.153574     2626.088566   \n",
       "std     288701.502262       26.263700     4585.264960      890.000833   \n",
       "min          0.000000        0.000000    10001.000000      288.000000   \n",
       "25%     249953.000000       22.000000    10006.000000     1926.000000   \n",
       "50%     500541.000000       45.000000    10011.000000     2526.000000   \n",
       "75%     750429.000000       68.000000    20003.000000     3290.000000   \n",
       "max     999999.000000       90.000000    20015.000000     5820.000000   \n",
       "\n",
       "       Registration_minutes  Nursing_minutes  Laboratory_minutes  \\\n",
       "count        1000000.000000   1000000.000000      1000000.000000   \n",
       "mean              62.574824        62.514987           62.506128   \n",
       "std               33.491316        33.476176           33.472493   \n",
       "min                5.000000         5.000000            5.000000   \n",
       "25%               34.000000        34.000000           34.000000   \n",
       "50%               63.000000        63.000000           62.000000   \n",
       "75%               92.000000        91.000000           91.000000   \n",
       "max              120.000000       120.000000          120.000000   \n",
       "\n",
       "       Consultation_minutes  Pharmacy_minutes  total_time_minutes  \\\n",
       "count        1000000.000000    1000000.000000      1000000.000000   \n",
       "mean              62.488122         62.506230          312.590291   \n",
       "std               33.451284         33.474613           74.826412   \n",
       "min                5.000000          5.000000           43.000000   \n",
       "25%               34.000000         34.000000          261.000000   \n",
       "50%               62.000000         62.000000          313.000000   \n",
       "75%               91.000000         91.000000          365.000000   \n",
       "max              120.000000        120.000000          582.000000   \n",
       "\n",
       "       total_time_hrs  \n",
       "count  1000000.000000  \n",
       "mean         5.209587  \n",
       "std          1.280328  \n",
       "min          1.000000  \n",
       "25%          4.000000  \n",
       "50%          5.000000  \n",
       "75%          6.000000  \n",
       "max         10.000000  "
      ],
      "text/html": [
       "<div>\n",
       "<style scoped>\n",
       "    .dataframe tbody tr th:only-of-type {\n",
       "        vertical-align: middle;\n",
       "    }\n",
       "\n",
       "    .dataframe tbody tr th {\n",
       "        vertical-align: top;\n",
       "    }\n",
       "\n",
       "    .dataframe thead th {\n",
       "        text-align: right;\n",
       "    }\n",
       "</style>\n",
       "<table border=\"1\" class=\"dataframe\">\n",
       "  <thead>\n",
       "    <tr style=\"text-align: right;\">\n",
       "      <th></th>\n",
       "      <th>Patient_ID</th>\n",
       "      <th>Age</th>\n",
       "      <th>Postcode</th>\n",
       "      <th>Total_Cost</th>\n",
       "      <th>Registration_minutes</th>\n",
       "      <th>Nursing_minutes</th>\n",
       "      <th>Laboratory_minutes</th>\n",
       "      <th>Consultation_minutes</th>\n",
       "      <th>Pharmacy_minutes</th>\n",
       "      <th>total_time_minutes</th>\n",
       "      <th>total_time_hrs</th>\n",
       "    </tr>\n",
       "  </thead>\n",
       "  <tbody>\n",
       "    <tr>\n",
       "      <th>count</th>\n",
       "      <td>1000000.000000</td>\n",
       "      <td>1000000.000000</td>\n",
       "      <td>1000000.000000</td>\n",
       "      <td>1000000.000000</td>\n",
       "      <td>1000000.000000</td>\n",
       "      <td>1000000.000000</td>\n",
       "      <td>1000000.000000</td>\n",
       "      <td>1000000.000000</td>\n",
       "      <td>1000000.000000</td>\n",
       "      <td>1000000.000000</td>\n",
       "      <td>1000000.000000</td>\n",
       "    </tr>\n",
       "    <tr>\n",
       "      <th>mean</th>\n",
       "      <td>500232.310839</td>\n",
       "      <td>45.000623</td>\n",
       "      <td>13014.153574</td>\n",
       "      <td>2626.088566</td>\n",
       "      <td>62.574824</td>\n",
       "      <td>62.514987</td>\n",
       "      <td>62.506128</td>\n",
       "      <td>62.488122</td>\n",
       "      <td>62.506230</td>\n",
       "      <td>312.590291</td>\n",
       "      <td>5.209587</td>\n",
       "    </tr>\n",
       "    <tr>\n",
       "      <th>std</th>\n",
       "      <td>288701.502262</td>\n",
       "      <td>26.263700</td>\n",
       "      <td>4585.264960</td>\n",
       "      <td>890.000833</td>\n",
       "      <td>33.491316</td>\n",
       "      <td>33.476176</td>\n",
       "      <td>33.472493</td>\n",
       "      <td>33.451284</td>\n",
       "      <td>33.474613</td>\n",
       "      <td>74.826412</td>\n",
       "      <td>1.280328</td>\n",
       "    </tr>\n",
       "    <tr>\n",
       "      <th>min</th>\n",
       "      <td>0.000000</td>\n",
       "      <td>0.000000</td>\n",
       "      <td>10001.000000</td>\n",
       "      <td>288.000000</td>\n",
       "      <td>5.000000</td>\n",
       "      <td>5.000000</td>\n",
       "      <td>5.000000</td>\n",
       "      <td>5.000000</td>\n",
       "      <td>5.000000</td>\n",
       "      <td>43.000000</td>\n",
       "      <td>1.000000</td>\n",
       "    </tr>\n",
       "    <tr>\n",
       "      <th>25%</th>\n",
       "      <td>249953.000000</td>\n",
       "      <td>22.000000</td>\n",
       "      <td>10006.000000</td>\n",
       "      <td>1926.000000</td>\n",
       "      <td>34.000000</td>\n",
       "      <td>34.000000</td>\n",
       "      <td>34.000000</td>\n",
       "      <td>34.000000</td>\n",
       "      <td>34.000000</td>\n",
       "      <td>261.000000</td>\n",
       "      <td>4.000000</td>\n",
       "    </tr>\n",
       "    <tr>\n",
       "      <th>50%</th>\n",
       "      <td>500541.000000</td>\n",
       "      <td>45.000000</td>\n",
       "      <td>10011.000000</td>\n",
       "      <td>2526.000000</td>\n",
       "      <td>63.000000</td>\n",
       "      <td>63.000000</td>\n",
       "      <td>62.000000</td>\n",
       "      <td>62.000000</td>\n",
       "      <td>62.000000</td>\n",
       "      <td>313.000000</td>\n",
       "      <td>5.000000</td>\n",
       "    </tr>\n",
       "    <tr>\n",
       "      <th>75%</th>\n",
       "      <td>750429.000000</td>\n",
       "      <td>68.000000</td>\n",
       "      <td>20003.000000</td>\n",
       "      <td>3290.000000</td>\n",
       "      <td>92.000000</td>\n",
       "      <td>91.000000</td>\n",
       "      <td>91.000000</td>\n",
       "      <td>91.000000</td>\n",
       "      <td>91.000000</td>\n",
       "      <td>365.000000</td>\n",
       "      <td>6.000000</td>\n",
       "    </tr>\n",
       "    <tr>\n",
       "      <th>max</th>\n",
       "      <td>999999.000000</td>\n",
       "      <td>90.000000</td>\n",
       "      <td>20015.000000</td>\n",
       "      <td>5820.000000</td>\n",
       "      <td>120.000000</td>\n",
       "      <td>120.000000</td>\n",
       "      <td>120.000000</td>\n",
       "      <td>120.000000</td>\n",
       "      <td>120.000000</td>\n",
       "      <td>582.000000</td>\n",
       "      <td>10.000000</td>\n",
       "    </tr>\n",
       "  </tbody>\n",
       "</table>\n",
       "</div>"
      ]
     },
     "execution_count": 11,
     "metadata": {},
     "output_type": "execute_result"
    }
   ],
   "execution_count": 11
  },
  {
   "metadata": {
    "ExecuteTime": {
     "end_time": "2025-02-02T15:27:51.081645Z",
     "start_time": "2025-02-02T15:27:51.079364Z"
    }
   },
   "cell_type": "code",
   "source": "",
   "id": "a8bb07113180806c",
   "outputs": [],
   "execution_count": null
  }
 ],
 "metadata": {
  "kernelspec": {
   "display_name": "Python 3",
   "language": "python",
   "name": "python3"
  },
  "language_info": {
   "codemirror_mode": {
    "name": "ipython",
    "version": 2
   },
   "file_extension": ".py",
   "mimetype": "text/x-python",
   "name": "python",
   "nbconvert_exporter": "python",
   "pygments_lexer": "ipython2",
   "version": "2.7.6"
  }
 },
 "nbformat": 4,
 "nbformat_minor": 5
}

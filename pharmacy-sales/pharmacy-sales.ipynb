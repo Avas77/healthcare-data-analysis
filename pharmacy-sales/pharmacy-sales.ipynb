{
 "cells": [
  {
   "cell_type": "code",
   "id": "initial_id",
   "metadata": {
    "collapsed": true,
    "ExecuteTime": {
     "end_time": "2025-02-04T19:26:16.004534Z",
     "start_time": "2025-02-04T19:26:16.000758Z"
    }
   },
   "source": [
    "import pandas as pd\n",
    "import matplotlib.pyplot as plt\n",
    "import seaborn as sns"
   ],
   "outputs": [],
   "execution_count": 1
  },
  {
   "metadata": {
    "ExecuteTime": {
     "end_time": "2025-02-04T19:27:30.649331Z",
     "start_time": "2025-02-04T19:27:30.091468Z"
    }
   },
   "cell_type": "code",
   "source": [
    "pharmacy_sales = pd.read_csv('..\\dataset\\pharmacy-sales-data.csv')\n",
    "pharmacy_sales"
   ],
   "id": "86fa007db4654df9",
   "outputs": [
    {
     "name": "stderr",
     "output_type": "stream",
     "text": [
      "<>:1: SyntaxWarning: invalid escape sequence '\\d'\n",
      "<>:1: SyntaxWarning: invalid escape sequence '\\d'\n",
      "C:\\Users\\BAJRACHARYAA\\AppData\\Local\\Temp\\ipykernel_29404\\2966208969.py:1: SyntaxWarning: invalid escape sequence '\\d'\n",
      "  pharmacy_sales = pd.read_csv('..\\dataset\\pharmacy-sales-data.csv')\n"
     ]
    },
    {
     "data": {
      "text/plain": [
       "         Date Sold                                     Med_name  \\\n",
       "0       2021-05-07              Clotrimazole Topical Cream (2%)   \n",
       "1       2021-08-09   Alprostadil Urethral Suppository (125 mcg)   \n",
       "2       2021-06-15            Methyltestosterone Tablet (10 mg)   \n",
       "3       2021-02-19                      Buspirone Tablet (5 mg)   \n",
       "4       2022-09-24  Hydrocodone/Acetaminophen Tablet (5/325 mg)   \n",
       "...            ...                                          ...   \n",
       "999995  2020-11-29   Alprostadil Urethral Suppository (125 mcg)   \n",
       "999996  2021-03-30                   Fenoprofen Tablet (600 mg)   \n",
       "999997  2020-04-17                      Doxazosin Tablet (1 mg)   \n",
       "999998  2021-12-08             Flumazenil Injection (0.1 mg/mL)   \n",
       "999999  2022-08-16                   Prednisolone Tablet (5 mg)   \n",
       "\n",
       "                                      Med_class  Quantity Sold  Price  \n",
       "0                                    Antifungal             66   86.9  \n",
       "1                       Prostaglandin E1 Analog             15   22.9  \n",
       "2                              Androgen Hormone              5    5.9  \n",
       "3                                    Anxiolytic             89   55.7  \n",
       "4        Opioid Analgesic/Analgesic Combination             79    0.7  \n",
       "...                                         ...            ...    ...  \n",
       "999995                  Prostaglandin E1 Analog             34   58.0  \n",
       "999996      Nonsteroidal Anti-Inflammatory Drug             12   98.3  \n",
       "999997                            Alpha-Blocker             83   10.3  \n",
       "999998                Benzodiazepine Antagonist              1   23.9  \n",
       "999999                           Corticosteroid             44   54.5  \n",
       "\n",
       "[1000000 rows x 5 columns]"
      ],
      "text/html": [
       "<div>\n",
       "<style scoped>\n",
       "    .dataframe tbody tr th:only-of-type {\n",
       "        vertical-align: middle;\n",
       "    }\n",
       "\n",
       "    .dataframe tbody tr th {\n",
       "        vertical-align: top;\n",
       "    }\n",
       "\n",
       "    .dataframe thead th {\n",
       "        text-align: right;\n",
       "    }\n",
       "</style>\n",
       "<table border=\"1\" class=\"dataframe\">\n",
       "  <thead>\n",
       "    <tr style=\"text-align: right;\">\n",
       "      <th></th>\n",
       "      <th>Date Sold</th>\n",
       "      <th>Med_name</th>\n",
       "      <th>Med_class</th>\n",
       "      <th>Quantity Sold</th>\n",
       "      <th>Price</th>\n",
       "    </tr>\n",
       "  </thead>\n",
       "  <tbody>\n",
       "    <tr>\n",
       "      <th>0</th>\n",
       "      <td>2021-05-07</td>\n",
       "      <td>Clotrimazole Topical Cream (2%)</td>\n",
       "      <td>Antifungal</td>\n",
       "      <td>66</td>\n",
       "      <td>86.9</td>\n",
       "    </tr>\n",
       "    <tr>\n",
       "      <th>1</th>\n",
       "      <td>2021-08-09</td>\n",
       "      <td>Alprostadil Urethral Suppository (125 mcg)</td>\n",
       "      <td>Prostaglandin E1 Analog</td>\n",
       "      <td>15</td>\n",
       "      <td>22.9</td>\n",
       "    </tr>\n",
       "    <tr>\n",
       "      <th>2</th>\n",
       "      <td>2021-06-15</td>\n",
       "      <td>Methyltestosterone Tablet (10 mg)</td>\n",
       "      <td>Androgen Hormone</td>\n",
       "      <td>5</td>\n",
       "      <td>5.9</td>\n",
       "    </tr>\n",
       "    <tr>\n",
       "      <th>3</th>\n",
       "      <td>2021-02-19</td>\n",
       "      <td>Buspirone Tablet (5 mg)</td>\n",
       "      <td>Anxiolytic</td>\n",
       "      <td>89</td>\n",
       "      <td>55.7</td>\n",
       "    </tr>\n",
       "    <tr>\n",
       "      <th>4</th>\n",
       "      <td>2022-09-24</td>\n",
       "      <td>Hydrocodone/Acetaminophen Tablet (5/325 mg)</td>\n",
       "      <td>Opioid Analgesic/Analgesic Combination</td>\n",
       "      <td>79</td>\n",
       "      <td>0.7</td>\n",
       "    </tr>\n",
       "    <tr>\n",
       "      <th>...</th>\n",
       "      <td>...</td>\n",
       "      <td>...</td>\n",
       "      <td>...</td>\n",
       "      <td>...</td>\n",
       "      <td>...</td>\n",
       "    </tr>\n",
       "    <tr>\n",
       "      <th>999995</th>\n",
       "      <td>2020-11-29</td>\n",
       "      <td>Alprostadil Urethral Suppository (125 mcg)</td>\n",
       "      <td>Prostaglandin E1 Analog</td>\n",
       "      <td>34</td>\n",
       "      <td>58.0</td>\n",
       "    </tr>\n",
       "    <tr>\n",
       "      <th>999996</th>\n",
       "      <td>2021-03-30</td>\n",
       "      <td>Fenoprofen Tablet (600 mg)</td>\n",
       "      <td>Nonsteroidal Anti-Inflammatory Drug</td>\n",
       "      <td>12</td>\n",
       "      <td>98.3</td>\n",
       "    </tr>\n",
       "    <tr>\n",
       "      <th>999997</th>\n",
       "      <td>2020-04-17</td>\n",
       "      <td>Doxazosin Tablet (1 mg)</td>\n",
       "      <td>Alpha-Blocker</td>\n",
       "      <td>83</td>\n",
       "      <td>10.3</td>\n",
       "    </tr>\n",
       "    <tr>\n",
       "      <th>999998</th>\n",
       "      <td>2021-12-08</td>\n",
       "      <td>Flumazenil Injection (0.1 mg/mL)</td>\n",
       "      <td>Benzodiazepine Antagonist</td>\n",
       "      <td>1</td>\n",
       "      <td>23.9</td>\n",
       "    </tr>\n",
       "    <tr>\n",
       "      <th>999999</th>\n",
       "      <td>2022-08-16</td>\n",
       "      <td>Prednisolone Tablet (5 mg)</td>\n",
       "      <td>Corticosteroid</td>\n",
       "      <td>44</td>\n",
       "      <td>54.5</td>\n",
       "    </tr>\n",
       "  </tbody>\n",
       "</table>\n",
       "<p>1000000 rows × 5 columns</p>\n",
       "</div>"
      ]
     },
     "execution_count": 6,
     "metadata": {},
     "output_type": "execute_result"
    }
   ],
   "execution_count": 6
  },
  {
   "metadata": {
    "ExecuteTime": {
     "end_time": "2025-02-04T19:28:01.504422Z",
     "start_time": "2025-02-04T19:28:01.363927Z"
    }
   },
   "cell_type": "code",
   "source": "pharmacy_sales.info()",
   "id": "d57680a9473d6f18",
   "outputs": [
    {
     "name": "stdout",
     "output_type": "stream",
     "text": [
      "<class 'pandas.core.frame.DataFrame'>\n",
      "RangeIndex: 1000000 entries, 0 to 999999\n",
      "Data columns (total 5 columns):\n",
      " #   Column         Non-Null Count    Dtype  \n",
      "---  ------         --------------    -----  \n",
      " 0   Date Sold      1000000 non-null  object \n",
      " 1   Med_name       1000000 non-null  object \n",
      " 2   Med_class      1000000 non-null  object \n",
      " 3   Quantity Sold  1000000 non-null  int64  \n",
      " 4   Price          1000000 non-null  float64\n",
      "dtypes: float64(1), int64(1), object(3)\n",
      "memory usage: 38.1+ MB\n"
     ]
    }
   ],
   "execution_count": 7
  },
  {
   "metadata": {
    "ExecuteTime": {
     "end_time": "2025-02-04T19:28:27.381118Z",
     "start_time": "2025-02-04T19:28:27.254507Z"
    }
   },
   "cell_type": "code",
   "source": "pharmacy_sales.describe()",
   "id": "ef041266707419e1",
   "outputs": [
    {
     "data": {
      "text/plain": [
       "        Quantity Sold           Price\n",
       "count  1000000.000000  1000000.000000\n",
       "mean        50.524566       50.024411\n",
       "std         28.847235       28.872706\n",
       "min          1.000000        0.100000\n",
       "25%         26.000000       25.000000\n",
       "50%         51.000000       50.000000\n",
       "75%         75.000000       75.100000\n",
       "max        100.000000      100.000000"
      ],
      "text/html": [
       "<div>\n",
       "<style scoped>\n",
       "    .dataframe tbody tr th:only-of-type {\n",
       "        vertical-align: middle;\n",
       "    }\n",
       "\n",
       "    .dataframe tbody tr th {\n",
       "        vertical-align: top;\n",
       "    }\n",
       "\n",
       "    .dataframe thead th {\n",
       "        text-align: right;\n",
       "    }\n",
       "</style>\n",
       "<table border=\"1\" class=\"dataframe\">\n",
       "  <thead>\n",
       "    <tr style=\"text-align: right;\">\n",
       "      <th></th>\n",
       "      <th>Quantity Sold</th>\n",
       "      <th>Price</th>\n",
       "    </tr>\n",
       "  </thead>\n",
       "  <tbody>\n",
       "    <tr>\n",
       "      <th>count</th>\n",
       "      <td>1000000.000000</td>\n",
       "      <td>1000000.000000</td>\n",
       "    </tr>\n",
       "    <tr>\n",
       "      <th>mean</th>\n",
       "      <td>50.524566</td>\n",
       "      <td>50.024411</td>\n",
       "    </tr>\n",
       "    <tr>\n",
       "      <th>std</th>\n",
       "      <td>28.847235</td>\n",
       "      <td>28.872706</td>\n",
       "    </tr>\n",
       "    <tr>\n",
       "      <th>min</th>\n",
       "      <td>1.000000</td>\n",
       "      <td>0.100000</td>\n",
       "    </tr>\n",
       "    <tr>\n",
       "      <th>25%</th>\n",
       "      <td>26.000000</td>\n",
       "      <td>25.000000</td>\n",
       "    </tr>\n",
       "    <tr>\n",
       "      <th>50%</th>\n",
       "      <td>51.000000</td>\n",
       "      <td>50.000000</td>\n",
       "    </tr>\n",
       "    <tr>\n",
       "      <th>75%</th>\n",
       "      <td>75.000000</td>\n",
       "      <td>75.100000</td>\n",
       "    </tr>\n",
       "    <tr>\n",
       "      <th>max</th>\n",
       "      <td>100.000000</td>\n",
       "      <td>100.000000</td>\n",
       "    </tr>\n",
       "  </tbody>\n",
       "</table>\n",
       "</div>"
      ]
     },
     "execution_count": 8,
     "metadata": {},
     "output_type": "execute_result"
    }
   ],
   "execution_count": 8
  },
  {
   "metadata": {
    "ExecuteTime": {
     "end_time": "2025-02-04T19:36:51.180358Z",
     "start_time": "2025-02-04T19:36:41.214042Z"
    }
   },
   "cell_type": "code",
   "source": [
    "plt.figure(figsize=(12, 5))\n",
    "\n",
    "plt.subplot(1, 2, 1)\n",
    "sns.histplot(pharmacy_sales['Quantity Sold'], bins=20, kde=True, color='red')\n",
    "plt.title(\"Histogram of Quantity Sold\")\n",
    "\n",
    "plt.subplot(1, 2, 2)\n",
    "sns.histplot(pharmacy_sales['Price'], bins=20, kde=True, color='blue')\n",
    "plt.title(\"Histogram of Price\")\n",
    "\n",
    "plt.show()"
   ],
   "id": "d32c7afa7f81ee3c",
   "outputs": [
    {
     "data": {
      "text/plain": [
       "<Figure size 1200x500 with 2 Axes>"
      ],
      "image/png": "[encoded data removed]"
     },
     "metadata": {},
     "output_type": "display_data"
    }
   ],
   "execution_count": 12
  },
  {
   "metadata": {},
   "cell_type": "code",
   "outputs": [],
   "execution_count": null,
   "source": "",
   "id": "a24c7e924f5fb2e8"
  }
 ],
 "metadata": {
  "kernelspec": {
   "display_name": "Python 3",
   "language": "python",
   "name": "python3"
  },
  "language_info": {
   "codemirror_mode": {
    "name": "ipython",
    "version": 2
   },
   "file_extension": ".py",
   "mimetype": "text/x-python",
   "name": "python",
   "nbconvert_exporter": "python",
   "pygments_lexer": "ipython2",
   "version": "2.7.6"
  }
 },
 "nbformat": 4,
 "nbformat_minor": 5
}

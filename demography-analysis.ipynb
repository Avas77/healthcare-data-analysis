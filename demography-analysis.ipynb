{
 "cells": [
  {
   "cell_type": "code",
   "id": "initial_id",
   "metadata": {
    "collapsed": true,
    "ExecuteTime": {
     "end_time": "2025-01-25T01:11:56.268501Z",
     "start_time": "2025-01-25T01:11:56.260484Z"
    }
   },
   "source": [
    "import pandas as pd\n",
    "import matplotlib.pyplot as plt"
   ],
   "outputs": [],
   "execution_count": 38
  },
  {
   "metadata": {
    "ExecuteTime": {
     "end_time": "2025-01-25T00:41:30.167277Z",
     "start_time": "2025-01-25T00:41:29.148802Z"
    }
   },
   "cell_type": "code",
   "source": [
    "patient_csv = pd.read_csv(\"dataset/patients_data_clean.csv\")\n",
    "patient_csv"
   ],
   "id": "4e722de48f29ed0f",
   "outputs": [
    {
     "data": {
      "text/plain": [
       "        Visit_Date  Patient_ID  Age  Gender  \\\n",
       "0       2020-05-06      688923   68  Female   \n",
       "1       2018-08-04      886361   62  Female   \n",
       "2       2021-04-10      464823   70  Female   \n",
       "3       2021-10-01      655214    8  Female   \n",
       "4       2018-04-30      454666   24    Male   \n",
       "...            ...         ...  ...     ...   \n",
       "999995  2018-09-30      385435    9    Male   \n",
       "999996  2020-05-08      117261   29  Female   \n",
       "999997  2019-12-31      594613   39  Female   \n",
       "999998  2019-11-04      152179   39  Female   \n",
       "999999  2019-05-11      370584   76  Female   \n",
       "\n",
       "                                Diagnosis  Has_Insurance  Postcode  \\\n",
       "0                                Diabetes           True     20006   \n",
       "1                 Urinary Tract Infection          False     20005   \n",
       "2       Upper Respiratory Tract Infection           True     10003   \n",
       "3       Upper Respiratory Tract Infection          False     10006   \n",
       "4                                 Malaria           True     10006   \n",
       "...                                   ...            ...       ...   \n",
       "999995                     Abdominal pain           True     10004   \n",
       "999996            Urinary Tract Infection           True     20009   \n",
       "999997  Upper Respiratory Tract Infection          False     10001   \n",
       "999998                            Malaria          False     20006   \n",
       "999999                            Malaria          False     20012   \n",
       "\n",
       "        Total_Cost  Registration_minutes  Nursing_minutes  Laboratory_minutes  \\\n",
       "0           2274.0                    33              105                 101   \n",
       "1           3430.0                    46               75                  84   \n",
       "2           1836.0                   107               81                   5   \n",
       "3           3250.0                    66               31                 101   \n",
       "4           2262.0                    68               55                  60   \n",
       "...            ...                   ...              ...                 ...   \n",
       "999995      1458.0                    80               52                  11   \n",
       "999996      1836.0                    59               57                  64   \n",
       "999997      1930.0                    10               14                  69   \n",
       "999998      3950.0                   119               52                  60   \n",
       "999999      3500.0                    34               90                  29   \n",
       "\n",
       "        Consultation_minutes  Pharmacy_minutes  \n",
       "0                         28               112  \n",
       "1                        102                36  \n",
       "2                         77                36  \n",
       "3                         35                92  \n",
       "4                         90               104  \n",
       "...                      ...               ...  \n",
       "999995                    42                58  \n",
       "999996                    66                60  \n",
       "999997                    14                86  \n",
       "999998                    94                70  \n",
       "999999                    97               100  \n",
       "\n",
       "[1000000 rows x 13 columns]"
      ],
      "text/html": [
       "<div>\n",
       "<style scoped>\n",
       "    .dataframe tbody tr th:only-of-type {\n",
       "        vertical-align: middle;\n",
       "    }\n",
       "\n",
       "    .dataframe tbody tr th {\n",
       "        vertical-align: top;\n",
       "    }\n",
       "\n",
       "    .dataframe thead th {\n",
       "        text-align: right;\n",
       "    }\n",
       "</style>\n",
       "<table border=\"1\" class=\"dataframe\">\n",
       "  <thead>\n",
       "    <tr style=\"text-align: right;\">\n",
       "      <th></th>\n",
       "      <th>Visit_Date</th>\n",
       "      <th>Patient_ID</th>\n",
       "      <th>Age</th>\n",
       "      <th>Gender</th>\n",
       "      <th>Diagnosis</th>\n",
       "      <th>Has_Insurance</th>\n",
       "      <th>Postcode</th>\n",
       "      <th>Total_Cost</th>\n",
       "      <th>Registration_minutes</th>\n",
       "      <th>Nursing_minutes</th>\n",
       "      <th>Laboratory_minutes</th>\n",
       "      <th>Consultation_minutes</th>\n",
       "      <th>Pharmacy_minutes</th>\n",
       "    </tr>\n",
       "  </thead>\n",
       "  <tbody>\n",
       "    <tr>\n",
       "      <th>0</th>\n",
       "      <td>2020-05-06</td>\n",
       "      <td>688923</td>\n",
       "      <td>68</td>\n",
       "      <td>Female</td>\n",
       "      <td>Diabetes</td>\n",
       "      <td>True</td>\n",
       "      <td>20006</td>\n",
       "      <td>2274.0</td>\n",
       "      <td>33</td>\n",
       "      <td>105</td>\n",
       "      <td>101</td>\n",
       "      <td>28</td>\n",
       "      <td>112</td>\n",
       "    </tr>\n",
       "    <tr>\n",
       "      <th>1</th>\n",
       "      <td>2018-08-04</td>\n",
       "      <td>886361</td>\n",
       "      <td>62</td>\n",
       "      <td>Female</td>\n",
       "      <td>Urinary Tract Infection</td>\n",
       "      <td>False</td>\n",
       "      <td>20005</td>\n",
       "      <td>3430.0</td>\n",
       "      <td>46</td>\n",
       "      <td>75</td>\n",
       "      <td>84</td>\n",
       "      <td>102</td>\n",
       "      <td>36</td>\n",
       "    </tr>\n",
       "    <tr>\n",
       "      <th>2</th>\n",
       "      <td>2021-04-10</td>\n",
       "      <td>464823</td>\n",
       "      <td>70</td>\n",
       "      <td>Female</td>\n",
       "      <td>Upper Respiratory Tract Infection</td>\n",
       "      <td>True</td>\n",
       "      <td>10003</td>\n",
       "      <td>1836.0</td>\n",
       "      <td>107</td>\n",
       "      <td>81</td>\n",
       "      <td>5</td>\n",
       "      <td>77</td>\n",
       "      <td>36</td>\n",
       "    </tr>\n",
       "    <tr>\n",
       "      <th>3</th>\n",
       "      <td>2021-10-01</td>\n",
       "      <td>655214</td>\n",
       "      <td>8</td>\n",
       "      <td>Female</td>\n",
       "      <td>Upper Respiratory Tract Infection</td>\n",
       "      <td>False</td>\n",
       "      <td>10006</td>\n",
       "      <td>3250.0</td>\n",
       "      <td>66</td>\n",
       "      <td>31</td>\n",
       "      <td>101</td>\n",
       "      <td>35</td>\n",
       "      <td>92</td>\n",
       "    </tr>\n",
       "    <tr>\n",
       "      <th>4</th>\n",
       "      <td>2018-04-30</td>\n",
       "      <td>454666</td>\n",
       "      <td>24</td>\n",
       "      <td>Male</td>\n",
       "      <td>Malaria</td>\n",
       "      <td>True</td>\n",
       "      <td>10006</td>\n",
       "      <td>2262.0</td>\n",
       "      <td>68</td>\n",
       "      <td>55</td>\n",
       "      <td>60</td>\n",
       "      <td>90</td>\n",
       "      <td>104</td>\n",
       "    </tr>\n",
       "    <tr>\n",
       "      <th>...</th>\n",
       "      <td>...</td>\n",
       "      <td>...</td>\n",
       "      <td>...</td>\n",
       "      <td>...</td>\n",
       "      <td>...</td>\n",
       "      <td>...</td>\n",
       "      <td>...</td>\n",
       "      <td>...</td>\n",
       "      <td>...</td>\n",
       "      <td>...</td>\n",
       "      <td>...</td>\n",
       "      <td>...</td>\n",
       "      <td>...</td>\n",
       "    </tr>\n",
       "    <tr>\n",
       "      <th>999995</th>\n",
       "      <td>2018-09-30</td>\n",
       "      <td>385435</td>\n",
       "      <td>9</td>\n",
       "      <td>Male</td>\n",
       "      <td>Abdominal pain</td>\n",
       "      <td>True</td>\n",
       "      <td>10004</td>\n",
       "      <td>1458.0</td>\n",
       "      <td>80</td>\n",
       "      <td>52</td>\n",
       "      <td>11</td>\n",
       "      <td>42</td>\n",
       "      <td>58</td>\n",
       "    </tr>\n",
       "    <tr>\n",
       "      <th>999996</th>\n",
       "      <td>2020-05-08</td>\n",
       "      <td>117261</td>\n",
       "      <td>29</td>\n",
       "      <td>Female</td>\n",
       "      <td>Urinary Tract Infection</td>\n",
       "      <td>True</td>\n",
       "      <td>20009</td>\n",
       "      <td>1836.0</td>\n",
       "      <td>59</td>\n",
       "      <td>57</td>\n",
       "      <td>64</td>\n",
       "      <td>66</td>\n",
       "      <td>60</td>\n",
       "    </tr>\n",
       "    <tr>\n",
       "      <th>999997</th>\n",
       "      <td>2019-12-31</td>\n",
       "      <td>594613</td>\n",
       "      <td>39</td>\n",
       "      <td>Female</td>\n",
       "      <td>Upper Respiratory Tract Infection</td>\n",
       "      <td>False</td>\n",
       "      <td>10001</td>\n",
       "      <td>1930.0</td>\n",
       "      <td>10</td>\n",
       "      <td>14</td>\n",
       "      <td>69</td>\n",
       "      <td>14</td>\n",
       "      <td>86</td>\n",
       "    </tr>\n",
       "    <tr>\n",
       "      <th>999998</th>\n",
       "      <td>2019-11-04</td>\n",
       "      <td>152179</td>\n",
       "      <td>39</td>\n",
       "      <td>Female</td>\n",
       "      <td>Malaria</td>\n",
       "      <td>False</td>\n",
       "      <td>20006</td>\n",
       "      <td>3950.0</td>\n",
       "      <td>119</td>\n",
       "      <td>52</td>\n",
       "      <td>60</td>\n",
       "      <td>94</td>\n",
       "      <td>70</td>\n",
       "    </tr>\n",
       "    <tr>\n",
       "      <th>999999</th>\n",
       "      <td>2019-05-11</td>\n",
       "      <td>370584</td>\n",
       "      <td>76</td>\n",
       "      <td>Female</td>\n",
       "      <td>Malaria</td>\n",
       "      <td>False</td>\n",
       "      <td>20012</td>\n",
       "      <td>3500.0</td>\n",
       "      <td>34</td>\n",
       "      <td>90</td>\n",
       "      <td>29</td>\n",
       "      <td>97</td>\n",
       "      <td>100</td>\n",
       "    </tr>\n",
       "  </tbody>\n",
       "</table>\n",
       "<p>1000000 rows × 13 columns</p>\n",
       "</div>"
      ]
     },
     "execution_count": 5,
     "metadata": {},
     "output_type": "execute_result"
    }
   ],
   "execution_count": 5
  },
  {
   "metadata": {
    "ExecuteTime": {
     "end_time": "2025-01-25T00:41:46.168954Z",
     "start_time": "2025-01-25T00:41:46.115872Z"
    }
   },
   "cell_type": "code",
   "source": "patient_csv[\"Gender\"].value_counts()",
   "id": "9a834a696a27d39d",
   "outputs": [
    {
     "data": {
      "text/plain": [
       "Gender\n",
       "Male      500108\n",
       "Female    499892\n",
       "Name: count, dtype: int64"
      ]
     },
     "execution_count": 6,
     "metadata": {},
     "output_type": "execute_result"
    }
   ],
   "execution_count": 6
  },
  {
   "metadata": {
    "ExecuteTime": {
     "end_time": "2025-01-25T00:45:45.368631Z",
     "start_time": "2025-01-25T00:45:45.279084Z"
    }
   },
   "cell_type": "code",
   "source": [
    "gender_visit = patient_csv[\"Gender\"].value_counts()\n",
    "gender_visit.plot(kind=\"bar\", color=[\"blue\", \"pink\"])\n",
    "plt.title(\"Gender Visit Distribution\")\n",
    "plt.xlabel(\"Gender\")\n",
    "plt.ylabel(\"Count\")\n",
    "plt.show()"
   ],
   "id": "4f8c37b645d60aee",
   "outputs": [
    {
     "data": {
      "text/plain": [
       "<Figure size 640x480 with 1 Axes>"
      ],
      "image/png": "[encoded data removed]"
     },
     "metadata": {},
     "output_type": "display_data"
    }
   ],
   "execution_count": 12
  },
  {
   "metadata": {
    "ExecuteTime": {
     "end_time": "2025-01-25T00:50:08.449001Z",
     "start_time": "2025-01-25T00:50:08.359625Z"
    }
   },
   "cell_type": "code",
   "source": [
    "plt.hist(patient_csv[\"Age\"], bins=20, color=\"purple\", edgecolor=\"red\", linewidth=1.5)\n",
    "plt.title(\"Age Distribution\")\n",
    "plt.xlabel(\"Age\")\n",
    "plt.ylabel(\"Count\")\n",
    "plt.show()"
   ],
   "id": "4d965ba8c9c44f87",
   "outputs": [
    {
     "data": {
      "text/plain": [
       "<Figure size 640x480 with 1 Axes>"
      ],
      "image/png": "[encoded data removed]"
     },
     "metadata": {},
     "output_type": "display_data"
    }
   ],
   "execution_count": 17
  },
  {
   "metadata": {
    "ExecuteTime": {
     "end_time": "2025-01-25T00:55:31.496520Z",
     "start_time": "2025-01-25T00:55:31.488810Z"
    }
   },
   "cell_type": "code",
   "source": "print(patient_csv[\"Age\"].max())",
   "id": "7d19077a6d0219c1",
   "outputs": [
    {
     "name": "stdout",
     "output_type": "stream",
     "text": [
      "90\n"
     ]
    }
   ],
   "execution_count": 21
  },
  {
   "metadata": {
    "ExecuteTime": {
     "end_time": "2025-01-25T00:55:43.349083Z",
     "start_time": "2025-01-25T00:55:43.341611Z"
    }
   },
   "cell_type": "code",
   "source": "print(patient_csv[\"Age\"].min())",
   "id": "a3c81b5a1d5aafd8",
   "outputs": [
    {
     "name": "stdout",
     "output_type": "stream",
     "text": [
      "0\n"
     ]
    }
   ],
   "execution_count": 22
  },
  {
   "metadata": {
    "ExecuteTime": {
     "end_time": "2025-01-25T00:57:10.843945Z",
     "start_time": "2025-01-25T00:57:10.833958Z"
    }
   },
   "cell_type": "code",
   "source": "age_bins = [0, 10, 20, 30, 40, 50, 60, 70, 80, 90]",
   "id": "53614b03804098ac",
   "outputs": [],
   "execution_count": 23
  },
  {
   "metadata": {
    "ExecuteTime": {
     "end_time": "2025-01-25T00:57:53.606373Z",
     "start_time": "2025-01-25T00:57:53.409105Z"
    }
   },
   "cell_type": "code",
   "source": [
    "patient_csv[\"Age_Range\"] = pd.cut(patient_csv[\"Age\"], bins=age_bins)\n",
    "patient_csv"
   ],
   "id": "4219555b9512762a",
   "outputs": [
    {
     "data": {
      "text/plain": [
       "        Visit_Date  Patient_ID  Age  Gender  \\\n",
       "0       2020-05-06      688923   68  Female   \n",
       "1       2018-08-04      886361   62  Female   \n",
       "2       2021-04-10      464823   70  Female   \n",
       "3       2021-10-01      655214    8  Female   \n",
       "4       2018-04-30      454666   24    Male   \n",
       "...            ...         ...  ...     ...   \n",
       "999995  2018-09-30      385435    9    Male   \n",
       "999996  2020-05-08      117261   29  Female   \n",
       "999997  2019-12-31      594613   39  Female   \n",
       "999998  2019-11-04      152179   39  Female   \n",
       "999999  2019-05-11      370584   76  Female   \n",
       "\n",
       "                                Diagnosis  Has_Insurance  Postcode  \\\n",
       "0                                Diabetes           True     20006   \n",
       "1                 Urinary Tract Infection          False     20005   \n",
       "2       Upper Respiratory Tract Infection           True     10003   \n",
       "3       Upper Respiratory Tract Infection          False     10006   \n",
       "4                                 Malaria           True     10006   \n",
       "...                                   ...            ...       ...   \n",
       "999995                     Abdominal pain           True     10004   \n",
       "999996            Urinary Tract Infection           True     20009   \n",
       "999997  Upper Respiratory Tract Infection          False     10001   \n",
       "999998                            Malaria          False     20006   \n",
       "999999                            Malaria          False     20012   \n",
       "\n",
       "        Total_Cost  Registration_minutes  Nursing_minutes  Laboratory_minutes  \\\n",
       "0           2274.0                    33              105                 101   \n",
       "1           3430.0                    46               75                  84   \n",
       "2           1836.0                   107               81                   5   \n",
       "3           3250.0                    66               31                 101   \n",
       "4           2262.0                    68               55                  60   \n",
       "...            ...                   ...              ...                 ...   \n",
       "999995      1458.0                    80               52                  11   \n",
       "999996      1836.0                    59               57                  64   \n",
       "999997      1930.0                    10               14                  69   \n",
       "999998      3950.0                   119               52                  60   \n",
       "999999      3500.0                    34               90                  29   \n",
       "\n",
       "        Consultation_minutes  Pharmacy_minutes Age_Range  \n",
       "0                         28               112  (60, 70]  \n",
       "1                        102                36  (60, 70]  \n",
       "2                         77                36  (60, 70]  \n",
       "3                         35                92   (0, 10]  \n",
       "4                         90               104  (20, 30]  \n",
       "...                      ...               ...       ...  \n",
       "999995                    42                58   (0, 10]  \n",
       "999996                    66                60  (20, 30]  \n",
       "999997                    14                86  (30, 40]  \n",
       "999998                    94                70  (30, 40]  \n",
       "999999                    97               100  (70, 80]  \n",
       "\n",
       "[1000000 rows x 14 columns]"
      ],
      "text/html": [
       "<div>\n",
       "<style scoped>\n",
       "    .dataframe tbody tr th:only-of-type {\n",
       "        vertical-align: middle;\n",
       "    }\n",
       "\n",
       "    .dataframe tbody tr th {\n",
       "        vertical-align: top;\n",
       "    }\n",
       "\n",
       "    .dataframe thead th {\n",
       "        text-align: right;\n",
       "    }\n",
       "</style>\n",
       "<table border=\"1\" class=\"dataframe\">\n",
       "  <thead>\n",
       "    <tr style=\"text-align: right;\">\n",
       "      <th></th>\n",
       "      <th>Visit_Date</th>\n",
       "      <th>Patient_ID</th>\n",
       "      <th>Age</th>\n",
       "      <th>Gender</th>\n",
       "      <th>Diagnosis</th>\n",
       "      <th>Has_Insurance</th>\n",
       "      <th>Postcode</th>\n",
       "      <th>Total_Cost</th>\n",
       "      <th>Registration_minutes</th>\n",
       "      <th>Nursing_minutes</th>\n",
       "      <th>Laboratory_minutes</th>\n",
       "      <th>Consultation_minutes</th>\n",
       "      <th>Pharmacy_minutes</th>\n",
       "      <th>Age_Range</th>\n",
       "    </tr>\n",
       "  </thead>\n",
       "  <tbody>\n",
       "    <tr>\n",
       "      <th>0</th>\n",
       "      <td>2020-05-06</td>\n",
       "      <td>688923</td>\n",
       "      <td>68</td>\n",
       "      <td>Female</td>\n",
       "      <td>Diabetes</td>\n",
       "      <td>True</td>\n",
       "      <td>20006</td>\n",
       "      <td>2274.0</td>\n",
       "      <td>33</td>\n",
       "      <td>105</td>\n",
       "      <td>101</td>\n",
       "      <td>28</td>\n",
       "      <td>112</td>\n",
       "      <td>(60, 70]</td>\n",
       "    </tr>\n",
       "    <tr>\n",
       "      <th>1</th>\n",
       "      <td>2018-08-04</td>\n",
       "      <td>886361</td>\n",
       "      <td>62</td>\n",
       "      <td>Female</td>\n",
       "      <td>Urinary Tract Infection</td>\n",
       "      <td>False</td>\n",
       "      <td>20005</td>\n",
       "      <td>3430.0</td>\n",
       "      <td>46</td>\n",
       "      <td>75</td>\n",
       "      <td>84</td>\n",
       "      <td>102</td>\n",
       "      <td>36</td>\n",
       "      <td>(60, 70]</td>\n",
       "    </tr>\n",
       "    <tr>\n",
       "      <th>2</th>\n",
       "      <td>2021-04-10</td>\n",
       "      <td>464823</td>\n",
       "      <td>70</td>\n",
       "      <td>Female</td>\n",
       "      <td>Upper Respiratory Tract Infection</td>\n",
       "      <td>True</td>\n",
       "      <td>10003</td>\n",
       "      <td>1836.0</td>\n",
       "      <td>107</td>\n",
       "      <td>81</td>\n",
       "      <td>5</td>\n",
       "      <td>77</td>\n",
       "      <td>36</td>\n",
       "      <td>(60, 70]</td>\n",
       "    </tr>\n",
       "    <tr>\n",
       "      <th>3</th>\n",
       "      <td>2021-10-01</td>\n",
       "      <td>655214</td>\n",
       "      <td>8</td>\n",
       "      <td>Female</td>\n",
       "      <td>Upper Respiratory Tract Infection</td>\n",
       "      <td>False</td>\n",
       "      <td>10006</td>\n",
       "      <td>3250.0</td>\n",
       "      <td>66</td>\n",
       "      <td>31</td>\n",
       "      <td>101</td>\n",
       "      <td>35</td>\n",
       "      <td>92</td>\n",
       "      <td>(0, 10]</td>\n",
       "    </tr>\n",
       "    <tr>\n",
       "      <th>4</th>\n",
       "      <td>2018-04-30</td>\n",
       "      <td>454666</td>\n",
       "      <td>24</td>\n",
       "      <td>Male</td>\n",
       "      <td>Malaria</td>\n",
       "      <td>True</td>\n",
       "      <td>10006</td>\n",
       "      <td>2262.0</td>\n",
       "      <td>68</td>\n",
       "      <td>55</td>\n",
       "      <td>60</td>\n",
       "      <td>90</td>\n",
       "      <td>104</td>\n",
       "      <td>(20, 30]</td>\n",
       "    </tr>\n",
       "    <tr>\n",
       "      <th>...</th>\n",
       "      <td>...</td>\n",
       "      <td>...</td>\n",
       "      <td>...</td>\n",
       "      <td>...</td>\n",
       "      <td>...</td>\n",
       "      <td>...</td>\n",
       "      <td>...</td>\n",
       "      <td>...</td>\n",
       "      <td>...</td>\n",
       "      <td>...</td>\n",
       "      <td>...</td>\n",
       "      <td>...</td>\n",
       "      <td>...</td>\n",
       "      <td>...</td>\n",
       "    </tr>\n",
       "    <tr>\n",
       "      <th>999995</th>\n",
       "      <td>2018-09-30</td>\n",
       "      <td>385435</td>\n",
       "      <td>9</td>\n",
       "      <td>Male</td>\n",
       "      <td>Abdominal pain</td>\n",
       "      <td>True</td>\n",
       "      <td>10004</td>\n",
       "      <td>1458.0</td>\n",
       "      <td>80</td>\n",
       "      <td>52</td>\n",
       "      <td>11</td>\n",
       "      <td>42</td>\n",
       "      <td>58</td>\n",
       "      <td>(0, 10]</td>\n",
       "    </tr>\n",
       "    <tr>\n",
       "      <th>999996</th>\n",
       "      <td>2020-05-08</td>\n",
       "      <td>117261</td>\n",
       "      <td>29</td>\n",
       "      <td>Female</td>\n",
       "      <td>Urinary Tract Infection</td>\n",
       "      <td>True</td>\n",
       "      <td>20009</td>\n",
       "      <td>1836.0</td>\n",
       "      <td>59</td>\n",
       "      <td>57</td>\n",
       "      <td>64</td>\n",
       "      <td>66</td>\n",
       "      <td>60</td>\n",
       "      <td>(20, 30]</td>\n",
       "    </tr>\n",
       "    <tr>\n",
       "      <th>999997</th>\n",
       "      <td>2019-12-31</td>\n",
       "      <td>594613</td>\n",
       "      <td>39</td>\n",
       "      <td>Female</td>\n",
       "      <td>Upper Respiratory Tract Infection</td>\n",
       "      <td>False</td>\n",
       "      <td>10001</td>\n",
       "      <td>1930.0</td>\n",
       "      <td>10</td>\n",
       "      <td>14</td>\n",
       "      <td>69</td>\n",
       "      <td>14</td>\n",
       "      <td>86</td>\n",
       "      <td>(30, 40]</td>\n",
       "    </tr>\n",
       "    <tr>\n",
       "      <th>999998</th>\n",
       "      <td>2019-11-04</td>\n",
       "      <td>152179</td>\n",
       "      <td>39</td>\n",
       "      <td>Female</td>\n",
       "      <td>Malaria</td>\n",
       "      <td>False</td>\n",
       "      <td>20006</td>\n",
       "      <td>3950.0</td>\n",
       "      <td>119</td>\n",
       "      <td>52</td>\n",
       "      <td>60</td>\n",
       "      <td>94</td>\n",
       "      <td>70</td>\n",
       "      <td>(30, 40]</td>\n",
       "    </tr>\n",
       "    <tr>\n",
       "      <th>999999</th>\n",
       "      <td>2019-05-11</td>\n",
       "      <td>370584</td>\n",
       "      <td>76</td>\n",
       "      <td>Female</td>\n",
       "      <td>Malaria</td>\n",
       "      <td>False</td>\n",
       "      <td>20012</td>\n",
       "      <td>3500.0</td>\n",
       "      <td>34</td>\n",
       "      <td>90</td>\n",
       "      <td>29</td>\n",
       "      <td>97</td>\n",
       "      <td>100</td>\n",
       "      <td>(70, 80]</td>\n",
       "    </tr>\n",
       "  </tbody>\n",
       "</table>\n",
       "<p>1000000 rows × 14 columns</p>\n",
       "</div>"
      ]
     },
     "execution_count": 24,
     "metadata": {},
     "output_type": "execute_result"
    }
   ],
   "execution_count": 24
  },
  {
   "metadata": {
    "ExecuteTime": {
     "end_time": "2025-01-25T00:59:59.952598Z",
     "start_time": "2025-01-25T00:59:59.918416Z"
    }
   },
   "cell_type": "code",
   "source": [
    "age_distribution = patient_csv[\"Age_Range\"].value_counts().sort_index()\n",
    "age_distribution"
   ],
   "id": "e596432157760108",
   "outputs": [
    {
     "data": {
      "text/plain": [
       "Age_Range\n",
       "(0, 10]     110025\n",
       "(10, 20]    109930\n",
       "(20, 30]    109577\n",
       "(30, 40]    109723\n",
       "(40, 50]    109960\n",
       "(50, 60]    110259\n",
       "(60, 70]    110039\n",
       "(70, 80]    110051\n",
       "(80, 90]    109515\n",
       "Name: count, dtype: int64"
      ]
     },
     "execution_count": 26,
     "metadata": {},
     "output_type": "execute_result"
    }
   ],
   "execution_count": 26
  },
  {
   "metadata": {
    "ExecuteTime": {
     "end_time": "2025-01-25T01:11:44.287991Z",
     "start_time": "2025-01-25T01:11:44.188826Z"
    }
   },
   "cell_type": "code",
   "source": [
    "age_distribution.plot(kind=\"bar\", color=\"skyblue\")\n",
    "plt.title(\"Age Distribution\")\n",
    "plt.xlabel(\"Age Range\")\n",
    "plt.ylabel(\"count\")\n",
    "plt.show()"
   ],
   "id": "bfb3cfecc82d964",
   "outputs": [
    {
     "data": {
      "text/plain": [
       "<Figure size 640x480 with 1 Axes>"
      ],
      "image/png": "[encoded data removed]"
     },
     "metadata": {},
     "output_type": "display_data"
    }
   ],
   "execution_count": 37
  },
  {
   "metadata": {
    "ExecuteTime": {
     "end_time": "2025-01-25T01:06:58.112719Z",
     "start_time": "2025-01-25T01:06:58.076913Z"
    }
   },
   "cell_type": "code",
   "source": "postcode_counts = patient_csv[\"Postcode\"].value_counts()",
   "id": "ed151213e46ff521",
   "outputs": [],
   "execution_count": 32
  },
  {
   "metadata": {
    "ExecuteTime": {
     "end_time": "2025-01-25T01:08:53.241365Z",
     "start_time": "2025-01-25T01:08:53.080217Z"
    }
   },
   "cell_type": "code",
   "source": [
    "postcode_counts.plot(kind=\"bar\", color=\"green\")\n",
    "plt.title(\"Postcode Distribution\")"
   ],
   "id": "21c4f6e55ca83d1f",
   "outputs": [
    {
     "data": {
      "text/plain": [
       "Text(0.5, 1.0, 'Postcode Distribution')"
      ]
     },
     "execution_count": 36,
     "metadata": {},
     "output_type": "execute_result"
    },
    {
     "data": {
      "text/plain": [
       "<Figure size 640x480 with 1 Axes>"
      ],
      "image/png": "[encoded data removed]"
     },
     "metadata": {},
     "output_type": "display_data"
    }
   ],
   "execution_count": 36
  },
  {
   "metadata": {
    "ExecuteTime": {
     "end_time": "2025-01-25T01:17:45.501682Z",
     "start_time": "2025-01-25T01:17:45.064646Z"
    }
   },
   "cell_type": "code",
   "source": [
    "plt.figure(figsize=(12, 6))\n",
    "plt.hist([patient_csv[patient_csv[\"Gender\"] == \"Male\"][\"Age\"], patient_csv[patient_csv[\"Gender\"] == \"Female\"][\"Age\"]], bins=20, label=[\"Male\", \"Female\"])\n",
    "plt.title(\"Age Distribution by Gender\")\n",
    "plt.xlabel(\"Age\")\n",
    "plt.ylabel(\"Count\")\n",
    "plt.legend()\n",
    "plt.show()"
   ],
   "id": "d9ebae8d2cbfef6b",
   "outputs": [
    {
     "data": {
      "text/plain": [
       "<Figure size 1200x600 with 1 Axes>"
      ],
      "image/png": "[encoded data removed]"
     },
     "metadata": {},
     "output_type": "display_data"
    }
   ],
   "execution_count": 41
  },
  {
   "metadata": {},
   "cell_type": "code",
   "outputs": [],
   "execution_count": null,
   "source": "",
   "id": "87b0ba38f04027ac"
  }
 ],
 "metadata": {
  "kernelspec": {
   "display_name": "Python 3",
   "language": "python",
   "name": "python3"
  },
  "language_info": {
   "codemirror_mode": {
    "name": "ipython",
    "version": 2
   },
   "file_extension": ".py",
   "mimetype": "text/x-python",
   "name": "python",
   "nbconvert_exporter": "python",
   "pygments_lexer": "ipython2",
   "version": "2.7.6"
  }
 },
 "nbformat": 4,
 "nbformat_minor": 5
}
